{
 "cells": [
  {
   "cell_type": "code",
   "execution_count": 1,
   "metadata": {},
   "outputs": [
    {
     "name": "stdout",
     "output_type": "stream",
     "text": [
      "crownfloats-test.com\n",
      "elasticbeanstalk-us-east-1-862738521567\n",
      "elasticbeanstalk-us-west-2-862738521567\n",
      "hidden-6ix.com\n",
      "loginfo-hidden6ix.com\n",
      "redditpostestimator\n",
      "www.hidden-6ix.com\n"
     ]
    }
   ],
   "source": [
    "#Testing boto3 aws connection\n",
    "\n",
    "import boto3\n",
    "\n",
    "s3 = boto3.resource('s3')\n",
    "\n",
    "for bucket in s3.buckets.all():\n",
    "    print(bucket.name)"
   ]
  },
  {
   "cell_type": "code",
   "execution_count": 2,
   "metadata": {},
   "outputs": [],
   "source": [
    "###Starting with exercise 2, to provide observability and feedback on performance of task 1 "
   ]
  },
  {
   "cell_type": "code",
   "execution_count": 44,
   "metadata": {},
   "outputs": [],
   "source": [
    "ec2_client = boto3.client('ec2') \n",
    "cloudwatch_client = boto3.client('cloudwatch')\n",
    "\n"
   ]
  },
  {
   "cell_type": "code",
   "execution_count": 36,
   "metadata": {},
   "outputs": [
    {
     "name": "stdout",
     "output_type": "stream",
     "text": [
      "i-0c6474917143e0522\n",
      "{'Code': 16, 'Name': 'running'}\n"
     ]
    }
   ],
   "source": [
    "#2a) See the status of all the diffferent servers being monitored\n",
    "instance_status_paginator = ec2_client.get_paginator('describe_instance_status')\n",
    "instance_status_iterator = instance_status_paginator.paginate()\n",
    "instances = []\n",
    "for instance_status in instance_status_iterator:\n",
    "    for status in instance_status['InstanceStatuses']:\n",
    "        instances.append(status)\n",
    "        print(status['InstanceId'])\n",
    "        print(status['InstanceState'])"
   ]
  },
  {
   "cell_type": "code",
   "execution_count": 33,
   "metadata": {},
   "outputs": [],
   "source": [
    "#2a) See how many processes are running on it\n",
    "# Methodology is to have hosts run process that continually emits cloud watch metrics, which can be watched and alerted on\n"
   ]
  },
  {
   "cell_type": "code",
   "execution_count": 37,
   "metadata": {},
   "outputs": [],
   "source": [
    "##############\n",
    "# Script which emits cloudwatch metrics \n",
    "##############\n",
    "\n",
    "\n"
   ]
  },
  {
   "cell_type": "code",
   "execution_count": 52,
   "metadata": {},
   "outputs": [
    {
     "name": "stdout",
     "output_type": "stream",
     "text": [
      "InstanceId\n",
      "InstanceId\n"
     ]
    }
   ],
   "source": [
    "# Polling instance level cloudwatch metrics\n",
    "response = cloudwatch_client.list_metrics(\n",
    "    Namespace=\"AWS/EC2\"\n",
    ")\n",
    "\n",
    "for metric in response:\n",
    "    print(\"InstanceId\") \n"
   ]
  }
 ],
 "metadata": {
  "kernelspec": {
   "display_name": "Python 3",
   "language": "python",
   "name": "python3"
  },
  "language_info": {
   "codemirror_mode": {
    "name": "ipython",
    "version": 3
   },
   "file_extension": ".py",
   "mimetype": "text/x-python",
   "name": "python",
   "nbconvert_exporter": "python",
   "pygments_lexer": "ipython3",
   "version": "3.7.3"
  }
 },
 "nbformat": 4,
 "nbformat_minor": 2
}
