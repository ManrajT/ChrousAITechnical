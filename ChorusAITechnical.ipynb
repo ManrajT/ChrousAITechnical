{
 "cells": [
  {
   "cell_type": "code",
   "execution_count": 1,
   "metadata": {},
   "outputs": [
    {
     "name": "stdout",
     "output_type": "stream",
     "text": [
      "crownfloats-test.com\n",
      "elasticbeanstalk-us-east-1-862738521567\n",
      "elasticbeanstalk-us-west-2-862738521567\n",
      "hidden-6ix.com\n",
      "loginfo-hidden6ix.com\n",
      "redditpostestimator\n",
      "www.hidden-6ix.com\n"
     ]
    }
   ],
   "source": [
    "#Testing boto3 aws\n",
    "\n",
    "import boto3\n",
    "\n",
    "s3 = boto3.resource('s3')\n",
    "\n",
    "for bucket in s3.buckets.all():\n",
    "    print(bucket.name)"
   ]
  },
  {
   "cell_type": "code",
   "execution_count": null,
   "metadata": {},
   "outputs": [],
   "source": []
  }
 ],
 "metadata": {
  "kernelspec": {
   "display_name": "Python 3",
   "language": "python",
   "name": "python3"
  },
  "language_info": {
   "codemirror_mode": {
    "name": "ipython",
    "version": 3
   },
   "file_extension": ".py",
   "mimetype": "text/x-python",
   "name": "python",
   "nbconvert_exporter": "python",
   "pygments_lexer": "ipython3",
   "version": "3.7.3"
  }
 },
 "nbformat": 4,
 "nbformat_minor": 2
}
